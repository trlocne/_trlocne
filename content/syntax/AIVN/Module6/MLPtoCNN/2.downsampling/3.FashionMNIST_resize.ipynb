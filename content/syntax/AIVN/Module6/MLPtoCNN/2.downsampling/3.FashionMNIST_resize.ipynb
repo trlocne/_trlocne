{
 "cells": [
  {
   "cell_type": "markdown",
   "metadata": {},
   "source": [
    "#### Model"
   ]
  },
  {
   "cell_type": "code",
   "execution_count": 4,
   "metadata": {},
   "outputs": [
    {
     "name": "stdout",
     "output_type": "stream",
     "text": [
      "----------------------------------------------------------------\n",
      "        Layer (type)               Output Shape         Param #\n",
      "================================================================\n",
      "            Conv2d-1           [-1, 32, 24, 24]             832\n",
      "              ReLU-2           [-1, 32, 24, 24]               0\n",
      "       ResizeLayer-3           [-1, 32, 12, 12]               0\n",
      "           Flatten-4                 [-1, 4608]               0\n",
      "            Linear-5                  [-1, 128]         589,952\n",
      "              ReLU-6                  [-1, 128]               0\n",
      "            Linear-7                   [-1, 10]           1,290\n",
      "================================================================\n",
      "Total params: 592,074\n",
      "Trainable params: 592,074\n",
      "Non-trainable params: 0\n",
      "----------------------------------------------------------------\n",
      "Input size (MB): 0.00\n",
      "Forward/backward pass size (MB): 0.35\n",
      "Params size (MB): 2.26\n",
      "Estimated Total Size (MB): 2.62\n",
      "----------------------------------------------------------------\n"
     ]
    }
   ],
   "source": [
    "import torch\n",
    "import torch.nn as nn\n",
    "from torchsummary import summary\n",
    "\n",
    "class ResizeLayer(nn.Module):\n",
    "    def __init__(self, scale_factor, mode='bilinear', align_corners=False):\n",
    "        super(ResizeLayer, self).__init__()\n",
    "        self.scale_factor = scale_factor\n",
    "        self.mode = mode\n",
    "        self.align_corners = align_corners\n",
    "\n",
    "    def forward(self, x):\n",
    "        return F.interpolate(x, scale_factor=self.scale_factor, mode=self.mode, align_corners=self.align_corners)\n",
    "\n",
    "\n",
    "class CustomModel(nn.Module):\n",
    "    def __init__(self):\n",
    "        super(CustomModel, self).__init__()\n",
    "        self.conv = nn.Conv2d(1, 32, kernel_size=5)\n",
    "        self.resize = ResizeLayer(0.5)\n",
    "        self.flatten = nn.Flatten()\n",
    "        self.dense1 = nn.Linear(12*12*32, 128)\n",
    "        self.dense2 = nn.Linear(128, 10)\n",
    "        self.relu = nn.ReLU()\n",
    "        \n",
    "    def forward(self, x):\n",
    "        x = self.conv(x)\n",
    "        x = self.relu(x)\n",
    "        x = self.resize(x)\n",
    "        x = self.flatten(x)\n",
    "        x = self.relu(self.dense1(x))\n",
    "        x = self.dense2(x)\n",
    "        return x\n",
    "\n",
    "model = CustomModel()\n",
    "model = model.to(device)\n",
    "\n",
    "# Print model\n",
    "summary(model, (1, 28, 28))"
   ]
  },
  {
   "cell_type": "markdown",
   "metadata": {},
   "source": [
    "#### Loss, Optimizer, and Evaluation Function"
   ]
  },
  {
   "cell_type": "code",
   "execution_count": 5,
   "metadata": {},
   "outputs": [],
   "source": [
    "criterion = nn.CrossEntropyLoss()\n",
    "optimizer = optim.Adam(model.parameters(), lr=1e-4)"
   ]
  },
  {
   "cell_type": "code",
   "execution_count": 6,
   "metadata": {},
   "outputs": [],
   "source": [
    "# Function to compute loss and accuracy for test set\n",
    "def evaluate(model, testloader, criterion):\n",
    "    model.eval()\n",
    "    test_loss = 0.0\n",
    "    running_correct = 0\n",
    "    total = 0\n",
    "    with torch.no_grad():\n",
    "        for images, labels in testloader:\n",
    "            # Move inputs and labels to the device\n",
    "            images, labels = images.to(device), labels.to(device)\n",
    "\n",
    "            outputs = model(images)\n",
    "            loss = criterion(outputs, labels)\n",
    "            test_loss += loss.item()\n",
    "            \n",
    "            _, predicted = torch.max(outputs.data, 1)\n",
    "            total += labels.size(0)\n",
    "            running_correct += (predicted == labels).sum().item()\n",
    "\n",
    "    accuracy = 100 * running_correct / total\n",
    "    test_loss = test_loss / len(testloader)\n",
    "    return test_loss, accuracy"
   ]
  },
  {
   "cell_type": "markdown",
   "metadata": {},
   "source": [
    "#### Train"
   ]
  },
  {
   "cell_type": "code",
   "execution_count": 7,
   "metadata": {},
   "outputs": [],
   "source": [
    "# some parameter\n",
    "train_losses = []\n",
    "train_accuracies = []\n",
    "test_losses = []\n",
    "test_accuracies = []\n",
    "max_epoch = 150"
   ]
  },
  {
   "cell_type": "code",
   "execution_count": 8,
   "metadata": {
    "colab": {
     "base_uri": "https://localhost:8080/"
    },
    "id": "tYwXeSOOF_4Z",
    "outputId": "a4c62a4a-267f-4101-ce96-662cc23cdbe0"
   },
   "outputs": [
    {
     "name": "stdout",
     "output_type": "stream",
     "text": [
      "Epoch [1/150], Loss: 1.4016, Accuracy: 64.21%, Test Loss: 0.8842, Test Accuracy: 71.81%\n",
      "Epoch [2/150], Loss: 0.7416, Accuracy: 75.15%, Test Loss: 0.6695, Test Accuracy: 76.61%\n",
      "Epoch [3/150], Loss: 0.6084, Accuracy: 78.84%, Test Loss: 0.5897, Test Accuracy: 78.90%\n",
      "Epoch [4/150], Loss: 0.5459, Accuracy: 81.01%, Test Loss: 0.5456, Test Accuracy: 80.75%\n",
      "Epoch [5/150], Loss: 0.5054, Accuracy: 82.34%, Test Loss: 0.5152, Test Accuracy: 81.81%\n",
      "Epoch [6/150], Loss: 0.4765, Accuracy: 83.45%, Test Loss: 0.4929, Test Accuracy: 82.34%\n",
      "Epoch [7/150], Loss: 0.4535, Accuracy: 84.21%, Test Loss: 0.4704, Test Accuracy: 83.47%\n",
      "Epoch [8/150], Loss: 0.4357, Accuracy: 84.99%, Test Loss: 0.4561, Test Accuracy: 83.68%\n",
      "Epoch [9/150], Loss: 0.4216, Accuracy: 85.41%, Test Loss: 0.4458, Test Accuracy: 84.26%\n",
      "Epoch [10/150], Loss: 0.4095, Accuracy: 85.80%, Test Loss: 0.4329, Test Accuracy: 84.60%\n",
      "Epoch [11/150], Loss: 0.3980, Accuracy: 86.19%, Test Loss: 0.4221, Test Accuracy: 84.86%\n",
      "Epoch [12/150], Loss: 0.3882, Accuracy: 86.49%, Test Loss: 0.4159, Test Accuracy: 85.18%\n",
      "Epoch [13/150], Loss: 0.3806, Accuracy: 86.75%, Test Loss: 0.4084, Test Accuracy: 85.48%\n",
      "Epoch [14/150], Loss: 0.3714, Accuracy: 87.04%, Test Loss: 0.4014, Test Accuracy: 85.71%\n",
      "Epoch [15/150], Loss: 0.3660, Accuracy: 87.28%, Test Loss: 0.3950, Test Accuracy: 85.77%\n",
      "Epoch [16/150], Loss: 0.3607, Accuracy: 87.34%, Test Loss: 0.3946, Test Accuracy: 85.95%\n",
      "Epoch [17/150], Loss: 0.3537, Accuracy: 87.61%, Test Loss: 0.3855, Test Accuracy: 86.46%\n",
      "Epoch [18/150], Loss: 0.3495, Accuracy: 87.74%, Test Loss: 0.3835, Test Accuracy: 86.45%\n",
      "Epoch [19/150], Loss: 0.3434, Accuracy: 87.88%, Test Loss: 0.3755, Test Accuracy: 86.59%\n",
      "Epoch [20/150], Loss: 0.3380, Accuracy: 88.17%, Test Loss: 0.3713, Test Accuracy: 86.79%\n",
      "Epoch [21/150], Loss: 0.3342, Accuracy: 88.30%, Test Loss: 0.3681, Test Accuracy: 87.03%\n",
      "Epoch [22/150], Loss: 0.3286, Accuracy: 88.46%, Test Loss: 0.3640, Test Accuracy: 87.21%\n",
      "Epoch [23/150], Loss: 0.3257, Accuracy: 88.58%, Test Loss: 0.3611, Test Accuracy: 87.34%\n",
      "Epoch [24/150], Loss: 0.3220, Accuracy: 88.63%, Test Loss: 0.3582, Test Accuracy: 87.37%\n",
      "Epoch [25/150], Loss: 0.3182, Accuracy: 88.86%, Test Loss: 0.3539, Test Accuracy: 87.68%\n",
      "Epoch [26/150], Loss: 0.3141, Accuracy: 88.89%, Test Loss: 0.3521, Test Accuracy: 87.57%\n",
      "Epoch [27/150], Loss: 0.3106, Accuracy: 89.10%, Test Loss: 0.3494, Test Accuracy: 87.42%\n",
      "Epoch [28/150], Loss: 0.3066, Accuracy: 89.22%, Test Loss: 0.3454, Test Accuracy: 87.70%\n",
      "Epoch [29/150], Loss: 0.3035, Accuracy: 89.30%, Test Loss: 0.3426, Test Accuracy: 87.80%\n",
      "Epoch [30/150], Loss: 0.3000, Accuracy: 89.42%, Test Loss: 0.3396, Test Accuracy: 87.99%\n",
      "Epoch [31/150], Loss: 0.2989, Accuracy: 89.37%, Test Loss: 0.3366, Test Accuracy: 88.04%\n",
      "Epoch [32/150], Loss: 0.2958, Accuracy: 89.63%, Test Loss: 0.3345, Test Accuracy: 88.16%\n",
      "Epoch [33/150], Loss: 0.2918, Accuracy: 89.79%, Test Loss: 0.3313, Test Accuracy: 88.13%\n",
      "Epoch [34/150], Loss: 0.2896, Accuracy: 89.82%, Test Loss: 0.3291, Test Accuracy: 88.33%\n",
      "Epoch [35/150], Loss: 0.2867, Accuracy: 89.88%, Test Loss: 0.3288, Test Accuracy: 88.32%\n",
      "Epoch [36/150], Loss: 0.2844, Accuracy: 90.00%, Test Loss: 0.3251, Test Accuracy: 88.42%\n",
      "Epoch [37/150], Loss: 0.2824, Accuracy: 90.04%, Test Loss: 0.3224, Test Accuracy: 88.47%\n",
      "Epoch [38/150], Loss: 0.2789, Accuracy: 90.13%, Test Loss: 0.3229, Test Accuracy: 88.65%\n",
      "Epoch [39/150], Loss: 0.2772, Accuracy: 90.18%, Test Loss: 0.3195, Test Accuracy: 88.70%\n",
      "Epoch [40/150], Loss: 0.2749, Accuracy: 90.28%, Test Loss: 0.3170, Test Accuracy: 88.70%\n",
      "Epoch [41/150], Loss: 0.2734, Accuracy: 90.34%, Test Loss: 0.3182, Test Accuracy: 88.79%\n",
      "Epoch [42/150], Loss: 0.2710, Accuracy: 90.40%, Test Loss: 0.3153, Test Accuracy: 88.87%\n",
      "Epoch [43/150], Loss: 0.2690, Accuracy: 90.53%, Test Loss: 0.3121, Test Accuracy: 88.91%\n",
      "Epoch [44/150], Loss: 0.2667, Accuracy: 90.58%, Test Loss: 0.3121, Test Accuracy: 88.84%\n",
      "Epoch [45/150], Loss: 0.2642, Accuracy: 90.60%, Test Loss: 0.3101, Test Accuracy: 89.04%\n",
      "Epoch [46/150], Loss: 0.2623, Accuracy: 90.68%, Test Loss: 0.3085, Test Accuracy: 89.02%\n",
      "Epoch [47/150], Loss: 0.2599, Accuracy: 90.80%, Test Loss: 0.3088, Test Accuracy: 89.11%\n",
      "Epoch [48/150], Loss: 0.2581, Accuracy: 90.81%, Test Loss: 0.3086, Test Accuracy: 88.93%\n",
      "Epoch [49/150], Loss: 0.2577, Accuracy: 90.91%, Test Loss: 0.3046, Test Accuracy: 89.27%\n",
      "Epoch [50/150], Loss: 0.2556, Accuracy: 90.92%, Test Loss: 0.3052, Test Accuracy: 89.22%\n",
      "Epoch [51/150], Loss: 0.2537, Accuracy: 90.93%, Test Loss: 0.3058, Test Accuracy: 89.10%\n",
      "Epoch [52/150], Loss: 0.2512, Accuracy: 91.07%, Test Loss: 0.3014, Test Accuracy: 89.37%\n",
      "Epoch [53/150], Loss: 0.2496, Accuracy: 91.17%, Test Loss: 0.3011, Test Accuracy: 89.39%\n",
      "Epoch [54/150], Loss: 0.2485, Accuracy: 91.20%, Test Loss: 0.2986, Test Accuracy: 89.48%\n",
      "Epoch [55/150], Loss: 0.2466, Accuracy: 91.24%, Test Loss: 0.2985, Test Accuracy: 89.30%\n",
      "Epoch [56/150], Loss: 0.2447, Accuracy: 91.38%, Test Loss: 0.2962, Test Accuracy: 89.34%\n",
      "Epoch [57/150], Loss: 0.2428, Accuracy: 91.38%, Test Loss: 0.2955, Test Accuracy: 89.63%\n",
      "Epoch [58/150], Loss: 0.2416, Accuracy: 91.38%, Test Loss: 0.2953, Test Accuracy: 89.52%\n",
      "Epoch [59/150], Loss: 0.2401, Accuracy: 91.47%, Test Loss: 0.2958, Test Accuracy: 89.46%\n",
      "Epoch [60/150], Loss: 0.2398, Accuracy: 91.48%, Test Loss: 0.2939, Test Accuracy: 89.58%\n",
      "Epoch [61/150], Loss: 0.2376, Accuracy: 91.60%, Test Loss: 0.2939, Test Accuracy: 89.53%\n",
      "Epoch [62/150], Loss: 0.2364, Accuracy: 91.49%, Test Loss: 0.2924, Test Accuracy: 89.73%\n",
      "Epoch [63/150], Loss: 0.2357, Accuracy: 91.59%, Test Loss: 0.2948, Test Accuracy: 89.42%\n",
      "Epoch [64/150], Loss: 0.2336, Accuracy: 91.67%, Test Loss: 0.2900, Test Accuracy: 89.77%\n",
      "Epoch [65/150], Loss: 0.2324, Accuracy: 91.74%, Test Loss: 0.2919, Test Accuracy: 89.63%\n",
      "Epoch [66/150], Loss: 0.2303, Accuracy: 91.80%, Test Loss: 0.2876, Test Accuracy: 89.82%\n",
      "Epoch [67/150], Loss: 0.2287, Accuracy: 91.88%, Test Loss: 0.2894, Test Accuracy: 89.92%\n",
      "Epoch [68/150], Loss: 0.2279, Accuracy: 91.90%, Test Loss: 0.2881, Test Accuracy: 89.80%\n",
      "Epoch [69/150], Loss: 0.2271, Accuracy: 91.91%, Test Loss: 0.2859, Test Accuracy: 89.93%\n",
      "Epoch [70/150], Loss: 0.2258, Accuracy: 92.04%, Test Loss: 0.2881, Test Accuracy: 89.80%\n",
      "Epoch [71/150], Loss: 0.2247, Accuracy: 92.01%, Test Loss: 0.2872, Test Accuracy: 89.87%\n",
      "Epoch [72/150], Loss: 0.2239, Accuracy: 92.02%, Test Loss: 0.2854, Test Accuracy: 90.00%\n",
      "Epoch [73/150], Loss: 0.2215, Accuracy: 92.09%, Test Loss: 0.2879, Test Accuracy: 89.96%\n",
      "Epoch [74/150], Loss: 0.2214, Accuracy: 92.14%, Test Loss: 0.2852, Test Accuracy: 90.00%\n",
      "Epoch [75/150], Loss: 0.2195, Accuracy: 92.20%, Test Loss: 0.2843, Test Accuracy: 90.02%\n",
      "Epoch [76/150], Loss: 0.2184, Accuracy: 92.29%, Test Loss: 0.2840, Test Accuracy: 89.96%\n",
      "Epoch [77/150], Loss: 0.2173, Accuracy: 92.26%, Test Loss: 0.2817, Test Accuracy: 90.17%\n",
      "Epoch [78/150], Loss: 0.2158, Accuracy: 92.33%, Test Loss: 0.2839, Test Accuracy: 90.09%\n",
      "Epoch [79/150], Loss: 0.2145, Accuracy: 92.36%, Test Loss: 0.2859, Test Accuracy: 89.92%\n",
      "Epoch [80/150], Loss: 0.2132, Accuracy: 92.46%, Test Loss: 0.2812, Test Accuracy: 90.16%\n",
      "Epoch [81/150], Loss: 0.2136, Accuracy: 92.46%, Test Loss: 0.2804, Test Accuracy: 90.26%\n",
      "Epoch [82/150], Loss: 0.2117, Accuracy: 92.50%, Test Loss: 0.2802, Test Accuracy: 90.23%\n",
      "Epoch [83/150], Loss: 0.2108, Accuracy: 92.49%, Test Loss: 0.2779, Test Accuracy: 90.23%\n",
      "Epoch [84/150], Loss: 0.2091, Accuracy: 92.59%, Test Loss: 0.2788, Test Accuracy: 90.28%\n",
      "Epoch [85/150], Loss: 0.2074, Accuracy: 92.67%, Test Loss: 0.2802, Test Accuracy: 90.24%\n",
      "Epoch [86/150], Loss: 0.2087, Accuracy: 92.63%, Test Loss: 0.2786, Test Accuracy: 90.29%\n",
      "Epoch [87/150], Loss: 0.2064, Accuracy: 92.69%, Test Loss: 0.2767, Test Accuracy: 90.43%\n",
      "Epoch [88/150], Loss: 0.2056, Accuracy: 92.71%, Test Loss: 0.2772, Test Accuracy: 90.26%\n",
      "Epoch [89/150], Loss: 0.2033, Accuracy: 92.86%, Test Loss: 0.2772, Test Accuracy: 90.36%\n",
      "Epoch [90/150], Loss: 0.2033, Accuracy: 92.78%, Test Loss: 0.2790, Test Accuracy: 90.28%\n",
      "Epoch [91/150], Loss: 0.2024, Accuracy: 92.81%, Test Loss: 0.2773, Test Accuracy: 90.35%\n",
      "Epoch [92/150], Loss: 0.2014, Accuracy: 92.85%, Test Loss: 0.2767, Test Accuracy: 90.41%\n",
      "Epoch [93/150], Loss: 0.1995, Accuracy: 92.97%, Test Loss: 0.2790, Test Accuracy: 90.26%\n",
      "Epoch [94/150], Loss: 0.1981, Accuracy: 93.00%, Test Loss: 0.2795, Test Accuracy: 90.22%\n",
      "Epoch [95/150], Loss: 0.1991, Accuracy: 92.92%, Test Loss: 0.2752, Test Accuracy: 90.55%\n",
      "Epoch [96/150], Loss: 0.1974, Accuracy: 93.02%, Test Loss: 0.2750, Test Accuracy: 90.43%\n",
      "Epoch [97/150], Loss: 0.1959, Accuracy: 93.17%, Test Loss: 0.2743, Test Accuracy: 90.49%\n",
      "Epoch [98/150], Loss: 0.1951, Accuracy: 93.14%, Test Loss: 0.2749, Test Accuracy: 90.39%\n",
      "Epoch [99/150], Loss: 0.1949, Accuracy: 93.15%, Test Loss: 0.2740, Test Accuracy: 90.56%\n",
      "Epoch [100/150], Loss: 0.1932, Accuracy: 93.15%, Test Loss: 0.2725, Test Accuracy: 90.53%\n",
      "Epoch [101/150], Loss: 0.1921, Accuracy: 93.20%, Test Loss: 0.2770, Test Accuracy: 90.28%\n",
      "Epoch [102/150], Loss: 0.1916, Accuracy: 93.23%, Test Loss: 0.2730, Test Accuracy: 90.52%\n",
      "Epoch [103/150], Loss: 0.1900, Accuracy: 93.35%, Test Loss: 0.2722, Test Accuracy: 90.75%\n",
      "Epoch [104/150], Loss: 0.1899, Accuracy: 93.28%, Test Loss: 0.2746, Test Accuracy: 90.33%\n",
      "Epoch [105/150], Loss: 0.1891, Accuracy: 93.36%, Test Loss: 0.2714, Test Accuracy: 90.68%\n",
      "Epoch [106/150], Loss: 0.1870, Accuracy: 93.49%, Test Loss: 0.2716, Test Accuracy: 90.66%\n",
      "Epoch [107/150], Loss: 0.1872, Accuracy: 93.43%, Test Loss: 0.2708, Test Accuracy: 90.70%\n",
      "Epoch [108/150], Loss: 0.1865, Accuracy: 93.48%, Test Loss: 0.2722, Test Accuracy: 90.59%\n",
      "Epoch [109/150], Loss: 0.1847, Accuracy: 93.50%, Test Loss: 0.2740, Test Accuracy: 90.32%\n",
      "Epoch [110/150], Loss: 0.1843, Accuracy: 93.53%, Test Loss: 0.2721, Test Accuracy: 90.62%\n",
      "Epoch [111/150], Loss: 0.1843, Accuracy: 93.53%, Test Loss: 0.2706, Test Accuracy: 90.77%\n",
      "Epoch [112/150], Loss: 0.1825, Accuracy: 93.62%, Test Loss: 0.2703, Test Accuracy: 90.72%\n",
      "Epoch [113/150], Loss: 0.1816, Accuracy: 93.61%, Test Loss: 0.2703, Test Accuracy: 90.66%\n",
      "Epoch [114/150], Loss: 0.1805, Accuracy: 93.70%, Test Loss: 0.2693, Test Accuracy: 90.65%\n",
      "Epoch [115/150], Loss: 0.1810, Accuracy: 93.65%, Test Loss: 0.2746, Test Accuracy: 90.62%\n",
      "Epoch [116/150], Loss: 0.1810, Accuracy: 93.67%, Test Loss: 0.2704, Test Accuracy: 90.63%\n",
      "Epoch [117/150], Loss: 0.1792, Accuracy: 93.71%, Test Loss: 0.2677, Test Accuracy: 90.76%\n",
      "Epoch [118/150], Loss: 0.1787, Accuracy: 93.73%, Test Loss: 0.2701, Test Accuracy: 90.79%\n",
      "Epoch [119/150], Loss: 0.1765, Accuracy: 93.84%, Test Loss: 0.2702, Test Accuracy: 90.70%\n",
      "Epoch [120/150], Loss: 0.1762, Accuracy: 93.87%, Test Loss: 0.2725, Test Accuracy: 90.53%\n",
      "Epoch [121/150], Loss: 0.1755, Accuracy: 93.88%, Test Loss: 0.2716, Test Accuracy: 90.63%\n",
      "Epoch [122/150], Loss: 0.1745, Accuracy: 93.91%, Test Loss: 0.2672, Test Accuracy: 90.74%\n",
      "Epoch [123/150], Loss: 0.1729, Accuracy: 94.03%, Test Loss: 0.2689, Test Accuracy: 90.68%\n",
      "Epoch [124/150], Loss: 0.1730, Accuracy: 93.97%, Test Loss: 0.2720, Test Accuracy: 90.66%\n",
      "Epoch [125/150], Loss: 0.1732, Accuracy: 93.95%, Test Loss: 0.2669, Test Accuracy: 90.96%\n",
      "Epoch [126/150], Loss: 0.1712, Accuracy: 94.06%, Test Loss: 0.2703, Test Accuracy: 90.61%\n",
      "Epoch [127/150], Loss: 0.1700, Accuracy: 94.07%, Test Loss: 0.2691, Test Accuracy: 90.71%\n",
      "Epoch [128/150], Loss: 0.1691, Accuracy: 94.18%, Test Loss: 0.2666, Test Accuracy: 90.92%\n",
      "Epoch [129/150], Loss: 0.1683, Accuracy: 94.17%, Test Loss: 0.2708, Test Accuracy: 90.76%\n",
      "Epoch [130/150], Loss: 0.1682, Accuracy: 94.21%, Test Loss: 0.2692, Test Accuracy: 90.80%\n",
      "Epoch [131/150], Loss: 0.1675, Accuracy: 94.17%, Test Loss: 0.2674, Test Accuracy: 90.78%\n",
      "Epoch [132/150], Loss: 0.1667, Accuracy: 94.21%, Test Loss: 0.2716, Test Accuracy: 90.62%\n",
      "Epoch [133/150], Loss: 0.1656, Accuracy: 94.27%, Test Loss: 0.2663, Test Accuracy: 90.78%\n",
      "Epoch [134/150], Loss: 0.1654, Accuracy: 94.22%, Test Loss: 0.2664, Test Accuracy: 90.84%\n",
      "Epoch [135/150], Loss: 0.1643, Accuracy: 94.30%, Test Loss: 0.2677, Test Accuracy: 91.02%\n",
      "Epoch [136/150], Loss: 0.1636, Accuracy: 94.37%, Test Loss: 0.2677, Test Accuracy: 90.82%\n",
      "Epoch [137/150], Loss: 0.1622, Accuracy: 94.41%, Test Loss: 0.2696, Test Accuracy: 90.74%\n",
      "Epoch [138/150], Loss: 0.1626, Accuracy: 94.41%, Test Loss: 0.2655, Test Accuracy: 90.95%\n",
      "Epoch [139/150], Loss: 0.1613, Accuracy: 94.39%, Test Loss: 0.2680, Test Accuracy: 90.94%\n",
      "Epoch [140/150], Loss: 0.1611, Accuracy: 94.44%, Test Loss: 0.2654, Test Accuracy: 90.96%\n",
      "Epoch [141/150], Loss: 0.1605, Accuracy: 94.45%, Test Loss: 0.2683, Test Accuracy: 90.81%\n",
      "Epoch [142/150], Loss: 0.1602, Accuracy: 94.47%, Test Loss: 0.2691, Test Accuracy: 90.83%\n",
      "Epoch [143/150], Loss: 0.1597, Accuracy: 94.44%, Test Loss: 0.2673, Test Accuracy: 90.92%\n",
      "Epoch [144/150], Loss: 0.1581, Accuracy: 94.55%, Test Loss: 0.2652, Test Accuracy: 91.00%\n",
      "Epoch [145/150], Loss: 0.1569, Accuracy: 94.64%, Test Loss: 0.2723, Test Accuracy: 90.77%\n",
      "Epoch [146/150], Loss: 0.1574, Accuracy: 94.56%, Test Loss: 0.2691, Test Accuracy: 90.89%\n",
      "Epoch [147/150], Loss: 0.1557, Accuracy: 94.62%, Test Loss: 0.2672, Test Accuracy: 90.95%\n",
      "Epoch [148/150], Loss: 0.1546, Accuracy: 94.71%, Test Loss: 0.2660, Test Accuracy: 91.00%\n",
      "Epoch [149/150], Loss: 0.1537, Accuracy: 94.76%, Test Loss: 0.2661, Test Accuracy: 90.96%\n",
      "Epoch [150/150], Loss: 0.1540, Accuracy: 94.77%, Test Loss: 0.2654, Test Accuracy: 90.98%\n"
     ]
    }
   ],
   "source": [
    "# train\n",
    "for epoch in range(max_epoch):\n",
    "    model.train()\n",
    "    running_loss = 0.0\n",
    "    running_correct = 0   # to track number of correct predictions\n",
    "    total = 0             # to track total number of samples\n",
    "\n",
    "    for i, (inputs, labels) in enumerate(trainloader, 0):\n",
    "        # Move inputs and labels to the device\n",
    "        inputs, labels = inputs.to(device), labels.to(device)\n",
    "\n",
    "        # Zero the parameter gradients\n",
    "        optimizer.zero_grad()\n",
    "\n",
    "        # Forward pass\n",
    "        outputs = model(inputs)\n",
    "        loss = criterion(outputs, labels)\n",
    "        running_loss += loss.item()\n",
    "\n",
    "        # Determine class predictions and track accuracy\n",
    "        _, predicted = torch.max(outputs.data, 1)\n",
    "        total += labels.size(0)\n",
    "        running_correct += (predicted == labels).sum().item()\n",
    "\n",
    "        # Backward pass and optimization\n",
    "        loss.backward()\n",
    "        optimizer.step()        \n",
    "\n",
    "    epoch_accuracy = 100 * running_correct / total\n",
    "    epoch_loss = running_loss / (i + 1)\n",
    "    \n",
    "    test_loss, test_accuracy = evaluate(model, testloader, criterion)\n",
    "    print(f\"Epoch [{epoch + 1}/{max_epoch}], Loss: {epoch_loss:.4f}, Accuracy: {epoch_accuracy:.2f}%, Test Loss: {test_loss:.4f}, Test Accuracy: {test_accuracy:.2f}%\")\n",
    "    \n",
    "    # save for plot\n",
    "    train_losses.append(epoch_loss)\n",
    "    train_accuracies.append(epoch_accuracy)\n",
    "    test_losses.append(test_loss)\n",
    "    test_accuracies.append(test_accuracy)"
   ]
  },
  {
   "cell_type": "code",
   "execution_count": 9,
   "metadata": {
    "id": "AwIj3vrnF_8_"
   },
   "outputs": [
    {
     "data": {
      "text/plain": [
       "<matplotlib.legend.Legend at 0x7f07e3a845b0>"
      ]
     },
     "execution_count": 9,
     "metadata": {},
     "output_type": "execute_result"
    },
    {
     "data": {
      "image/png": "[encoded data removed]",
      "text/plain": [
       "<Figure size 640x480 with 1 Axes>"
      ]
     },
     "metadata": {},
     "output_type": "display_data"
    }
   ],
   "source": [
    "import matplotlib.pyplot as plt\n",
    "\n",
    "plt.plot(train_losses, label='train_losses')\n",
    "plt.plot(test_losses, label='test_losses')\n",
    "plt.legend()"
   ]
  },
  {
   "cell_type": "code",
   "execution_count": 10,
   "metadata": {
    "id": "eh3iDa8lF__H"
   },
   "outputs": [
    {
     "data": {
      "text/plain": [
       "<matplotlib.legend.Legend at 0x7f07000dbd30>"
      ]
     },
     "execution_count": 10,
     "metadata": {},
     "output_type": "execute_result"
    },
    {
     "data": {
      "image/png": "[encoded data removed]",
      "text/plain": [
       "<Figure size 640x480 with 1 Axes>"
      ]
     },
     "metadata": {},
     "output_type": "display_data"
    }
   ],
   "source": [
    "import matplotlib.pyplot as plt\n",
    "\n",
    "plt.plot(train_accuracies, label='train_accuracy')\n",
    "plt.plot(test_accuracies, label='test_accuracy')\n",
    "plt.legend()"
   ]
  }
 ],
 "metadata": {
  "accelerator": "GPU",
  "colab": {
   "gpuType": "T4",
   "provenance": []
  },
  "kernelspec": {
   "display_name": "Python 3 (ipykernel)",
   "language": "python",
   "name": "python3"
  },
  "language_info": {
   "codemirror_mode": {
    "name": "ipython",
    "version": 3
   },
   "file_extension": ".py",
   "mimetype": "text/x-python",
   "name": "python",
   "nbconvert_exporter": "python",
   "pygments_lexer": "ipython3",
   "version": "3.11.4"
  }
 },
 "nbformat": 4,
 "nbformat_minor": 4
}
